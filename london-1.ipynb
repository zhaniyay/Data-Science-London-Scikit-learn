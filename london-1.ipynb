{
 "cells": [
  {
   "cell_type": "code",
   "execution_count": 1,
   "id": "130e6fcd",
   "metadata": {
    "_cell_guid": "b1076dfc-b9ad-4769-8c92-a6c4dae69d19",
    "_uuid": "8f2839f25d086af736a60e9eeb907d3b93b6e0e5",
    "execution": {
     "iopub.execute_input": "2024-07-23T12:49:41.762730Z",
     "iopub.status.busy": "2024-07-23T12:49:41.762298Z",
     "iopub.status.idle": "2024-07-23T12:49:42.785060Z",
     "shell.execute_reply": "2024-07-23T12:49:42.783628Z"
    },
    "papermill": {
     "duration": 1.03534,
     "end_time": "2024-07-23T12:49:42.787858",
     "exception": false,
     "start_time": "2024-07-23T12:49:41.752518",
     "status": "completed"
    },
    "tags": []
   },
   "outputs": [
    {
     "name": "stdout",
     "output_type": "stream",
     "text": [
      "/kaggle/input/data-science-london-scikit-learn/trainLabels.csv\n",
      "/kaggle/input/data-science-london-scikit-learn/train.csv\n",
      "/kaggle/input/data-science-london-scikit-learn/test.csv\n"
     ]
    }
   ],
   "source": [
    "# This Python 3 environment comes with many helpful analytics libraries installed\n",
    "# It is defined by the kaggle/python Docker image: https://github.com/kaggle/docker-python\n",
    "# For example, here's several helpful packages to load\n",
    "\n",
    "import numpy as np # linear algebra\n",
    "import pandas as pd # data processing, CSV file I/O (e.g. pd.read_csv)\n",
    "\n",
    "# Input data files are available in the read-only \"../input/\" directory\n",
    "# For example, running this (by clicking run or pressing Shift+Enter) will list all files under the input directory\n",
    "\n",
    "import os\n",
    "for dirname, _, filenames in os.walk('/kaggle/input'):\n",
    "    for filename in filenames:\n",
    "        print(os.path.join(dirname, filename))\n",
    "\n",
    "# You can write up to 20GB to the current directory (/kaggle/working/) that gets preserved as output when you create a version using \"Save & Run All\" \n",
    "# You can also write temporary files to /kaggle/temp/, but they won't be saved outside of the current session"
   ]
  },
  {
   "cell_type": "code",
   "execution_count": 2,
   "id": "052d53c8",
   "metadata": {
    "execution": {
     "iopub.execute_input": "2024-07-23T12:49:42.805823Z",
     "iopub.status.busy": "2024-07-23T12:49:42.805282Z",
     "iopub.status.idle": "2024-07-23T12:49:45.134257Z",
     "shell.execute_reply": "2024-07-23T12:49:45.132987Z"
    },
    "papermill": {
     "duration": 2.341337,
     "end_time": "2024-07-23T12:49:45.137232",
     "exception": false,
     "start_time": "2024-07-23T12:49:42.795895",
     "status": "completed"
    },
    "tags": []
   },
   "outputs": [],
   "source": [
    "import seaborn as sns\n",
    "import matplotlib.pyplot as plt\n",
    "\n",
    "from sklearn.model_selection import train_test_split\n",
    "from sklearn.model_selection import GridSearchCV\n",
    "from sklearn.metrics import accuracy_score \n",
    "from sklearn.pipeline import make_pipeline\n",
    "from sklearn.preprocessing import StandardScaler\n",
    "\n",
    "from sklearn.linear_model import LogisticRegression\n",
    "from sklearn.neighbors import KNeighborsClassifier\n",
    "from sklearn.tree import DecisionTreeClassifier\n",
    "from sklearn.ensemble import RandomForestClassifier\n",
    "from sklearn.svm import SVC\n",
    "from sklearn.ensemble import GradientBoostingClassifier"
   ]
  },
  {
   "cell_type": "code",
   "execution_count": 3,
   "id": "5e8bae18",
   "metadata": {
    "execution": {
     "iopub.execute_input": "2024-07-23T12:49:45.154840Z",
     "iopub.status.busy": "2024-07-23T12:49:45.153832Z",
     "iopub.status.idle": "2024-07-23T12:49:45.495553Z",
     "shell.execute_reply": "2024-07-23T12:49:45.494519Z"
    },
    "papermill": {
     "duration": 0.353575,
     "end_time": "2024-07-23T12:49:45.498464",
     "exception": false,
     "start_time": "2024-07-23T12:49:45.144889",
     "status": "completed"
    },
    "tags": []
   },
   "outputs": [],
   "source": [
    "train_data = pd.read_csv('/kaggle/input/data-science-london-scikit-learn/train.csv', header=None)\n",
    "test_data = pd.read_csv('/kaggle/input/data-science-london-scikit-learn/test.csv', header=None)\n",
    "training_labels = pd.read_csv('/kaggle/input/data-science-london-scikit-learn/trainLabels.csv', header=None)\n"
   ]
  },
  {
   "cell_type": "code",
   "execution_count": 4,
   "id": "c6de668a",
   "metadata": {
    "execution": {
     "iopub.execute_input": "2024-07-23T12:49:45.516287Z",
     "iopub.status.busy": "2024-07-23T12:49:45.515510Z",
     "iopub.status.idle": "2024-07-23T12:49:45.522092Z",
     "shell.execute_reply": "2024-07-23T12:49:45.520864Z"
    },
    "papermill": {
     "duration": 0.018615,
     "end_time": "2024-07-23T12:49:45.524954",
     "exception": false,
     "start_time": "2024-07-23T12:49:45.506339",
     "status": "completed"
    },
    "tags": []
   },
   "outputs": [
    {
     "name": "stdout",
     "output_type": "stream",
     "text": [
      "Shape: \n",
      "train_data: (1000, 40)\n",
      "test_data: (9000, 40)\n",
      "training_labels: (1000, 1)\n"
     ]
    }
   ],
   "source": [
    "print(\"Shape: \")\n",
    "print(f\"train_data: {train_data.shape}\")\n",
    "print(f\"test_data: {test_data.shape}\")\n",
    "print(f\"training_labels: {training_labels.shape}\")"
   ]
  },
  {
   "cell_type": "code",
   "execution_count": 5,
   "id": "ad96e80c",
   "metadata": {
    "execution": {
     "iopub.execute_input": "2024-07-23T12:49:45.542203Z",
     "iopub.status.busy": "2024-07-23T12:49:45.541766Z",
     "iopub.status.idle": "2024-07-23T12:49:45.591242Z",
     "shell.execute_reply": "2024-07-23T12:49:45.589354Z"
    },
    "papermill": {
     "duration": 0.062756,
     "end_time": "2024-07-23T12:49:45.595378",
     "exception": false,
     "start_time": "2024-07-23T12:49:45.532622",
     "status": "completed"
    },
    "tags": []
   },
   "outputs": [
    {
     "data": {
      "text/html": [
       "<div>\n",
       "<style scoped>\n",
       "    .dataframe tbody tr th:only-of-type {\n",
       "        vertical-align: middle;\n",
       "    }\n",
       "\n",
       "    .dataframe tbody tr th {\n",
       "        vertical-align: top;\n",
       "    }\n",
       "\n",
       "    .dataframe thead th {\n",
       "        text-align: right;\n",
       "    }\n",
       "</style>\n",
       "<table border=\"1\" class=\"dataframe\">\n",
       "  <thead>\n",
       "    <tr style=\"text-align: right;\">\n",
       "      <th></th>\n",
       "      <th>0</th>\n",
       "      <th>1</th>\n",
       "      <th>2</th>\n",
       "      <th>3</th>\n",
       "      <th>4</th>\n",
       "      <th>5</th>\n",
       "      <th>6</th>\n",
       "      <th>7</th>\n",
       "      <th>8</th>\n",
       "      <th>9</th>\n",
       "      <th>...</th>\n",
       "      <th>30</th>\n",
       "      <th>31</th>\n",
       "      <th>32</th>\n",
       "      <th>33</th>\n",
       "      <th>34</th>\n",
       "      <th>35</th>\n",
       "      <th>36</th>\n",
       "      <th>37</th>\n",
       "      <th>38</th>\n",
       "      <th>39</th>\n",
       "    </tr>\n",
       "  </thead>\n",
       "  <tbody>\n",
       "    <tr>\n",
       "      <th>0</th>\n",
       "      <td>0.299403</td>\n",
       "      <td>-1.226624</td>\n",
       "      <td>1.498425</td>\n",
       "      <td>-1.176150</td>\n",
       "      <td>5.289853</td>\n",
       "      <td>0.208297</td>\n",
       "      <td>2.404498</td>\n",
       "      <td>1.594506</td>\n",
       "      <td>-0.051608</td>\n",
       "      <td>0.663234</td>\n",
       "      <td>...</td>\n",
       "      <td>-0.850465</td>\n",
       "      <td>-0.622990</td>\n",
       "      <td>-1.833057</td>\n",
       "      <td>0.293024</td>\n",
       "      <td>3.552681</td>\n",
       "      <td>0.717611</td>\n",
       "      <td>3.305972</td>\n",
       "      <td>-2.715559</td>\n",
       "      <td>-2.682409</td>\n",
       "      <td>0.101050</td>\n",
       "    </tr>\n",
       "    <tr>\n",
       "      <th>1</th>\n",
       "      <td>-1.174176</td>\n",
       "      <td>0.332157</td>\n",
       "      <td>0.949919</td>\n",
       "      <td>-1.285328</td>\n",
       "      <td>2.199061</td>\n",
       "      <td>-0.151268</td>\n",
       "      <td>-0.427039</td>\n",
       "      <td>2.619246</td>\n",
       "      <td>-0.765884</td>\n",
       "      <td>-0.093780</td>\n",
       "      <td>...</td>\n",
       "      <td>-0.819750</td>\n",
       "      <td>0.012037</td>\n",
       "      <td>2.038836</td>\n",
       "      <td>0.468579</td>\n",
       "      <td>-0.517657</td>\n",
       "      <td>0.422326</td>\n",
       "      <td>0.803699</td>\n",
       "      <td>1.213219</td>\n",
       "      <td>1.382932</td>\n",
       "      <td>-1.817761</td>\n",
       "    </tr>\n",
       "    <tr>\n",
       "      <th>2</th>\n",
       "      <td>1.192222</td>\n",
       "      <td>-0.414371</td>\n",
       "      <td>0.067054</td>\n",
       "      <td>-2.233568</td>\n",
       "      <td>3.658881</td>\n",
       "      <td>0.089007</td>\n",
       "      <td>0.203439</td>\n",
       "      <td>-4.219054</td>\n",
       "      <td>-1.184919</td>\n",
       "      <td>-1.240310</td>\n",
       "      <td>...</td>\n",
       "      <td>-0.604501</td>\n",
       "      <td>0.750054</td>\n",
       "      <td>-3.360521</td>\n",
       "      <td>0.856988</td>\n",
       "      <td>-2.751451</td>\n",
       "      <td>-1.582735</td>\n",
       "      <td>1.672246</td>\n",
       "      <td>0.656438</td>\n",
       "      <td>-0.932473</td>\n",
       "      <td>2.987436</td>\n",
       "    </tr>\n",
       "    <tr>\n",
       "      <th>3</th>\n",
       "      <td>1.573270</td>\n",
       "      <td>-0.580318</td>\n",
       "      <td>-0.866332</td>\n",
       "      <td>-0.603812</td>\n",
       "      <td>3.125716</td>\n",
       "      <td>0.870321</td>\n",
       "      <td>-0.161992</td>\n",
       "      <td>4.499666</td>\n",
       "      <td>1.038741</td>\n",
       "      <td>-1.092716</td>\n",
       "      <td>...</td>\n",
       "      <td>1.022959</td>\n",
       "      <td>1.275598</td>\n",
       "      <td>-3.480110</td>\n",
       "      <td>-1.065252</td>\n",
       "      <td>2.153133</td>\n",
       "      <td>1.563539</td>\n",
       "      <td>2.767117</td>\n",
       "      <td>0.215748</td>\n",
       "      <td>0.619645</td>\n",
       "      <td>1.883397</td>\n",
       "    </tr>\n",
       "    <tr>\n",
       "      <th>4</th>\n",
       "      <td>-0.613071</td>\n",
       "      <td>-0.644204</td>\n",
       "      <td>1.112558</td>\n",
       "      <td>-0.032397</td>\n",
       "      <td>3.490142</td>\n",
       "      <td>-0.011935</td>\n",
       "      <td>1.443521</td>\n",
       "      <td>-4.290282</td>\n",
       "      <td>-1.761308</td>\n",
       "      <td>0.807652</td>\n",
       "      <td>...</td>\n",
       "      <td>0.513906</td>\n",
       "      <td>-1.803473</td>\n",
       "      <td>0.518579</td>\n",
       "      <td>-0.205029</td>\n",
       "      <td>-4.744566</td>\n",
       "      <td>-1.520015</td>\n",
       "      <td>1.830651</td>\n",
       "      <td>0.870772</td>\n",
       "      <td>-1.894609</td>\n",
       "      <td>0.408332</td>\n",
       "    </tr>\n",
       "  </tbody>\n",
       "</table>\n",
       "<p>5 rows × 40 columns</p>\n",
       "</div>"
      ],
      "text/plain": [
       "         0         1         2         3         4         5         6   \\\n",
       "0  0.299403 -1.226624  1.498425 -1.176150  5.289853  0.208297  2.404498   \n",
       "1 -1.174176  0.332157  0.949919 -1.285328  2.199061 -0.151268 -0.427039   \n",
       "2  1.192222 -0.414371  0.067054 -2.233568  3.658881  0.089007  0.203439   \n",
       "3  1.573270 -0.580318 -0.866332 -0.603812  3.125716  0.870321 -0.161992   \n",
       "4 -0.613071 -0.644204  1.112558 -0.032397  3.490142 -0.011935  1.443521   \n",
       "\n",
       "         7         8         9   ...        30        31        32        33  \\\n",
       "0  1.594506 -0.051608  0.663234  ... -0.850465 -0.622990 -1.833057  0.293024   \n",
       "1  2.619246 -0.765884 -0.093780  ... -0.819750  0.012037  2.038836  0.468579   \n",
       "2 -4.219054 -1.184919 -1.240310  ... -0.604501  0.750054 -3.360521  0.856988   \n",
       "3  4.499666  1.038741 -1.092716  ...  1.022959  1.275598 -3.480110 -1.065252   \n",
       "4 -4.290282 -1.761308  0.807652  ...  0.513906 -1.803473  0.518579 -0.205029   \n",
       "\n",
       "         34        35        36        37        38        39  \n",
       "0  3.552681  0.717611  3.305972 -2.715559 -2.682409  0.101050  \n",
       "1 -0.517657  0.422326  0.803699  1.213219  1.382932 -1.817761  \n",
       "2 -2.751451 -1.582735  1.672246  0.656438 -0.932473  2.987436  \n",
       "3  2.153133  1.563539  2.767117  0.215748  0.619645  1.883397  \n",
       "4 -4.744566 -1.520015  1.830651  0.870772 -1.894609  0.408332  \n",
       "\n",
       "[5 rows x 40 columns]"
      ]
     },
     "execution_count": 5,
     "metadata": {},
     "output_type": "execute_result"
    }
   ],
   "source": [
    "train_data.head()"
   ]
  },
  {
   "cell_type": "code",
   "execution_count": 6,
   "id": "99a61804",
   "metadata": {
    "execution": {
     "iopub.execute_input": "2024-07-23T12:49:45.617679Z",
     "iopub.status.busy": "2024-07-23T12:49:45.616683Z",
     "iopub.status.idle": "2024-07-23T12:49:45.628434Z",
     "shell.execute_reply": "2024-07-23T12:49:45.627249Z"
    },
    "papermill": {
     "duration": 0.026527,
     "end_time": "2024-07-23T12:49:45.632804",
     "exception": false,
     "start_time": "2024-07-23T12:49:45.606277",
     "status": "completed"
    },
    "tags": []
   },
   "outputs": [
    {
     "data": {
      "text/html": [
       "<div>\n",
       "<style scoped>\n",
       "    .dataframe tbody tr th:only-of-type {\n",
       "        vertical-align: middle;\n",
       "    }\n",
       "\n",
       "    .dataframe tbody tr th {\n",
       "        vertical-align: top;\n",
       "    }\n",
       "\n",
       "    .dataframe thead th {\n",
       "        text-align: right;\n",
       "    }\n",
       "</style>\n",
       "<table border=\"1\" class=\"dataframe\">\n",
       "  <thead>\n",
       "    <tr style=\"text-align: right;\">\n",
       "      <th></th>\n",
       "      <th>0</th>\n",
       "    </tr>\n",
       "  </thead>\n",
       "  <tbody>\n",
       "    <tr>\n",
       "      <th>0</th>\n",
       "      <td>1</td>\n",
       "    </tr>\n",
       "    <tr>\n",
       "      <th>1</th>\n",
       "      <td>0</td>\n",
       "    </tr>\n",
       "    <tr>\n",
       "      <th>2</th>\n",
       "      <td>0</td>\n",
       "    </tr>\n",
       "    <tr>\n",
       "      <th>3</th>\n",
       "      <td>1</td>\n",
       "    </tr>\n",
       "    <tr>\n",
       "      <th>4</th>\n",
       "      <td>0</td>\n",
       "    </tr>\n",
       "  </tbody>\n",
       "</table>\n",
       "</div>"
      ],
      "text/plain": [
       "   0\n",
       "0  1\n",
       "1  0\n",
       "2  0\n",
       "3  1\n",
       "4  0"
      ]
     },
     "execution_count": 6,
     "metadata": {},
     "output_type": "execute_result"
    }
   ],
   "source": [
    "training_labels.head()"
   ]
  },
  {
   "cell_type": "code",
   "execution_count": 7,
   "id": "62edfecb",
   "metadata": {
    "execution": {
     "iopub.execute_input": "2024-07-23T12:49:45.658461Z",
     "iopub.status.busy": "2024-07-23T12:49:45.657024Z",
     "iopub.status.idle": "2024-07-23T12:49:45.693005Z",
     "shell.execute_reply": "2024-07-23T12:49:45.691568Z"
    },
    "papermill": {
     "duration": 0.05095,
     "end_time": "2024-07-23T12:49:45.696313",
     "exception": false,
     "start_time": "2024-07-23T12:49:45.645363",
     "status": "completed"
    },
    "tags": []
   },
   "outputs": [
    {
     "data": {
      "text/html": [
       "<div>\n",
       "<style scoped>\n",
       "    .dataframe tbody tr th:only-of-type {\n",
       "        vertical-align: middle;\n",
       "    }\n",
       "\n",
       "    .dataframe tbody tr th {\n",
       "        vertical-align: top;\n",
       "    }\n",
       "\n",
       "    .dataframe thead th {\n",
       "        text-align: right;\n",
       "    }\n",
       "</style>\n",
       "<table border=\"1\" class=\"dataframe\">\n",
       "  <thead>\n",
       "    <tr style=\"text-align: right;\">\n",
       "      <th></th>\n",
       "      <th>0</th>\n",
       "      <th>1</th>\n",
       "      <th>2</th>\n",
       "      <th>3</th>\n",
       "      <th>4</th>\n",
       "      <th>5</th>\n",
       "      <th>6</th>\n",
       "      <th>7</th>\n",
       "      <th>8</th>\n",
       "      <th>9</th>\n",
       "      <th>...</th>\n",
       "      <th>30</th>\n",
       "      <th>31</th>\n",
       "      <th>32</th>\n",
       "      <th>33</th>\n",
       "      <th>34</th>\n",
       "      <th>35</th>\n",
       "      <th>36</th>\n",
       "      <th>37</th>\n",
       "      <th>38</th>\n",
       "      <th>39</th>\n",
       "    </tr>\n",
       "  </thead>\n",
       "  <tbody>\n",
       "    <tr>\n",
       "      <th>0</th>\n",
       "      <td>2.808909</td>\n",
       "      <td>-0.242894</td>\n",
       "      <td>-0.546421</td>\n",
       "      <td>0.255162</td>\n",
       "      <td>1.749736</td>\n",
       "      <td>-0.030458</td>\n",
       "      <td>-1.322071</td>\n",
       "      <td>3.578071</td>\n",
       "      <td>-0.667578</td>\n",
       "      <td>-0.884257</td>\n",
       "      <td>...</td>\n",
       "      <td>-0.261688</td>\n",
       "      <td>-0.224375</td>\n",
       "      <td>-1.675606</td>\n",
       "      <td>-0.479584</td>\n",
       "      <td>-0.244388</td>\n",
       "      <td>-0.672355</td>\n",
       "      <td>0.517860</td>\n",
       "      <td>0.010665</td>\n",
       "      <td>-0.419214</td>\n",
       "      <td>2.818387</td>\n",
       "    </tr>\n",
       "    <tr>\n",
       "      <th>1</th>\n",
       "      <td>-0.374101</td>\n",
       "      <td>0.537669</td>\n",
       "      <td>0.081063</td>\n",
       "      <td>0.756773</td>\n",
       "      <td>0.915231</td>\n",
       "      <td>2.557282</td>\n",
       "      <td>3.703187</td>\n",
       "      <td>1.673835</td>\n",
       "      <td>-0.764122</td>\n",
       "      <td>-1.228040</td>\n",
       "      <td>...</td>\n",
       "      <td>-0.969463</td>\n",
       "      <td>0.574154</td>\n",
       "      <td>-2.200519</td>\n",
       "      <td>-1.612240</td>\n",
       "      <td>0.179031</td>\n",
       "      <td>-2.924596</td>\n",
       "      <td>0.643610</td>\n",
       "      <td>-1.470939</td>\n",
       "      <td>-0.067408</td>\n",
       "      <td>-0.976265</td>\n",
       "    </tr>\n",
       "    <tr>\n",
       "      <th>2</th>\n",
       "      <td>-0.088370</td>\n",
       "      <td>0.154743</td>\n",
       "      <td>0.380716</td>\n",
       "      <td>-1.176126</td>\n",
       "      <td>1.699867</td>\n",
       "      <td>-0.258627</td>\n",
       "      <td>-1.384999</td>\n",
       "      <td>1.093584</td>\n",
       "      <td>1.596633</td>\n",
       "      <td>0.230631</td>\n",
       "      <td>...</td>\n",
       "      <td>-0.769885</td>\n",
       "      <td>-0.005143</td>\n",
       "      <td>1.467490</td>\n",
       "      <td>0.483803</td>\n",
       "      <td>-3.542981</td>\n",
       "      <td>0.814561</td>\n",
       "      <td>-1.652948</td>\n",
       "      <td>1.265866</td>\n",
       "      <td>-1.749248</td>\n",
       "      <td>1.773784</td>\n",
       "    </tr>\n",
       "    <tr>\n",
       "      <th>3</th>\n",
       "      <td>-0.685635</td>\n",
       "      <td>0.501283</td>\n",
       "      <td>1.873375</td>\n",
       "      <td>0.215224</td>\n",
       "      <td>-3.983468</td>\n",
       "      <td>-0.103637</td>\n",
       "      <td>4.136113</td>\n",
       "      <td>-0.225431</td>\n",
       "      <td>-1.515015</td>\n",
       "      <td>-1.071763</td>\n",
       "      <td>...</td>\n",
       "      <td>0.968609</td>\n",
       "      <td>2.386412</td>\n",
       "      <td>-0.131219</td>\n",
       "      <td>0.285646</td>\n",
       "      <td>2.302069</td>\n",
       "      <td>1.255588</td>\n",
       "      <td>-1.563090</td>\n",
       "      <td>-0.125258</td>\n",
       "      <td>-1.030761</td>\n",
       "      <td>-2.945329</td>\n",
       "    </tr>\n",
       "    <tr>\n",
       "      <th>4</th>\n",
       "      <td>0.350867</td>\n",
       "      <td>0.721897</td>\n",
       "      <td>-0.477104</td>\n",
       "      <td>-1.748776</td>\n",
       "      <td>-2.627405</td>\n",
       "      <td>1.075433</td>\n",
       "      <td>4.954253</td>\n",
       "      <td>-3.293501</td>\n",
       "      <td>-0.760369</td>\n",
       "      <td>0.204360</td>\n",
       "      <td>...</td>\n",
       "      <td>0.260553</td>\n",
       "      <td>-2.045650</td>\n",
       "      <td>-2.173227</td>\n",
       "      <td>0.372992</td>\n",
       "      <td>0.450700</td>\n",
       "      <td>-0.211657</td>\n",
       "      <td>1.301359</td>\n",
       "      <td>-0.522164</td>\n",
       "      <td>2.484883</td>\n",
       "      <td>0.039213</td>\n",
       "    </tr>\n",
       "  </tbody>\n",
       "</table>\n",
       "<p>5 rows × 40 columns</p>\n",
       "</div>"
      ],
      "text/plain": [
       "         0         1         2         3         4         5         6   \\\n",
       "0  2.808909 -0.242894 -0.546421  0.255162  1.749736 -0.030458 -1.322071   \n",
       "1 -0.374101  0.537669  0.081063  0.756773  0.915231  2.557282  3.703187   \n",
       "2 -0.088370  0.154743  0.380716 -1.176126  1.699867 -0.258627 -1.384999   \n",
       "3 -0.685635  0.501283  1.873375  0.215224 -3.983468 -0.103637  4.136113   \n",
       "4  0.350867  0.721897 -0.477104 -1.748776 -2.627405  1.075433  4.954253   \n",
       "\n",
       "         7         8         9   ...        30        31        32        33  \\\n",
       "0  3.578071 -0.667578 -0.884257  ... -0.261688 -0.224375 -1.675606 -0.479584   \n",
       "1  1.673835 -0.764122 -1.228040  ... -0.969463  0.574154 -2.200519 -1.612240   \n",
       "2  1.093584  1.596633  0.230631  ... -0.769885 -0.005143  1.467490  0.483803   \n",
       "3 -0.225431 -1.515015 -1.071763  ...  0.968609  2.386412 -0.131219  0.285646   \n",
       "4 -3.293501 -0.760369  0.204360  ...  0.260553 -2.045650 -2.173227  0.372992   \n",
       "\n",
       "         34        35        36        37        38        39  \n",
       "0 -0.244388 -0.672355  0.517860  0.010665 -0.419214  2.818387  \n",
       "1  0.179031 -2.924596  0.643610 -1.470939 -0.067408 -0.976265  \n",
       "2 -3.542981  0.814561 -1.652948  1.265866 -1.749248  1.773784  \n",
       "3  2.302069  1.255588 -1.563090 -0.125258 -1.030761 -2.945329  \n",
       "4  0.450700 -0.211657  1.301359 -0.522164  2.484883  0.039213  \n",
       "\n",
       "[5 rows x 40 columns]"
      ]
     },
     "execution_count": 7,
     "metadata": {},
     "output_type": "execute_result"
    }
   ],
   "source": [
    "test_data.head()"
   ]
  },
  {
   "cell_type": "code",
   "execution_count": 8,
   "id": "a6ab42db",
   "metadata": {
    "execution": {
     "iopub.execute_input": "2024-07-23T12:49:45.721996Z",
     "iopub.status.busy": "2024-07-23T12:49:45.721532Z",
     "iopub.status.idle": "2024-07-23T12:49:45.755753Z",
     "shell.execute_reply": "2024-07-23T12:49:45.754000Z"
    },
    "papermill": {
     "duration": 0.049637,
     "end_time": "2024-07-23T12:49:45.758498",
     "exception": false,
     "start_time": "2024-07-23T12:49:45.708861",
     "status": "completed"
    },
    "tags": []
   },
   "outputs": [
    {
     "name": "stdout",
     "output_type": "stream",
     "text": [
      "<class 'pandas.core.frame.DataFrame'>\n",
      "RangeIndex: 1000 entries, 0 to 999\n",
      "Data columns (total 40 columns):\n",
      " #   Column  Non-Null Count  Dtype  \n",
      "---  ------  --------------  -----  \n",
      " 0   0       1000 non-null   float64\n",
      " 1   1       1000 non-null   float64\n",
      " 2   2       1000 non-null   float64\n",
      " 3   3       1000 non-null   float64\n",
      " 4   4       1000 non-null   float64\n",
      " 5   5       1000 non-null   float64\n",
      " 6   6       1000 non-null   float64\n",
      " 7   7       1000 non-null   float64\n",
      " 8   8       1000 non-null   float64\n",
      " 9   9       1000 non-null   float64\n",
      " 10  10      1000 non-null   float64\n",
      " 11  11      1000 non-null   float64\n",
      " 12  12      1000 non-null   float64\n",
      " 13  13      1000 non-null   float64\n",
      " 14  14      1000 non-null   float64\n",
      " 15  15      1000 non-null   float64\n",
      " 16  16      1000 non-null   float64\n",
      " 17  17      1000 non-null   float64\n",
      " 18  18      1000 non-null   float64\n",
      " 19  19      1000 non-null   float64\n",
      " 20  20      1000 non-null   float64\n",
      " 21  21      1000 non-null   float64\n",
      " 22  22      1000 non-null   float64\n",
      " 23  23      1000 non-null   float64\n",
      " 24  24      1000 non-null   float64\n",
      " 25  25      1000 non-null   float64\n",
      " 26  26      1000 non-null   float64\n",
      " 27  27      1000 non-null   float64\n",
      " 28  28      1000 non-null   float64\n",
      " 29  29      1000 non-null   float64\n",
      " 30  30      1000 non-null   float64\n",
      " 31  31      1000 non-null   float64\n",
      " 32  32      1000 non-null   float64\n",
      " 33  33      1000 non-null   float64\n",
      " 34  34      1000 non-null   float64\n",
      " 35  35      1000 non-null   float64\n",
      " 36  36      1000 non-null   float64\n",
      " 37  37      1000 non-null   float64\n",
      " 38  38      1000 non-null   float64\n",
      " 39  39      1000 non-null   float64\n",
      "dtypes: float64(40)\n",
      "memory usage: 312.6 KB\n"
     ]
    }
   ],
   "source": [
    "train_data.info()"
   ]
  },
  {
   "cell_type": "code",
   "execution_count": 9,
   "id": "a5022968",
   "metadata": {
    "execution": {
     "iopub.execute_input": "2024-07-23T12:49:45.780694Z",
     "iopub.status.busy": "2024-07-23T12:49:45.780088Z",
     "iopub.status.idle": "2024-07-23T12:49:45.868614Z",
     "shell.execute_reply": "2024-07-23T12:49:45.867417Z"
    },
    "papermill": {
     "duration": 0.104014,
     "end_time": "2024-07-23T12:49:45.871731",
     "exception": false,
     "start_time": "2024-07-23T12:49:45.767717",
     "status": "completed"
    },
    "tags": []
   },
   "outputs": [],
   "source": [
    "train_data.describe()\n",
    "y = np.ravel(training_labels)"
   ]
  },
  {
   "cell_type": "code",
   "execution_count": 10,
   "id": "ab6e9a0b",
   "metadata": {
    "execution": {
     "iopub.execute_input": "2024-07-23T12:49:45.891947Z",
     "iopub.status.busy": "2024-07-23T12:49:45.891507Z",
     "iopub.status.idle": "2024-07-23T12:49:45.902011Z",
     "shell.execute_reply": "2024-07-23T12:49:45.901034Z"
    },
    "papermill": {
     "duration": 0.023598,
     "end_time": "2024-07-23T12:49:45.904637",
     "exception": false,
     "start_time": "2024-07-23T12:49:45.881039",
     "status": "completed"
    },
    "tags": []
   },
   "outputs": [],
   "source": [
    "X_train, X_test, y_train, y_test = train_test_split(train_data, y, test_size=0.33, shuffle=True, random_state=42)"
   ]
  },
  {
   "cell_type": "code",
   "execution_count": 11,
   "id": "e16d6ec2",
   "metadata": {
    "execution": {
     "iopub.execute_input": "2024-07-23T12:49:45.924468Z",
     "iopub.status.busy": "2024-07-23T12:49:45.924001Z",
     "iopub.status.idle": "2024-07-23T12:49:45.930463Z",
     "shell.execute_reply": "2024-07-23T12:49:45.929119Z"
    },
    "papermill": {
     "duration": 0.019665,
     "end_time": "2024-07-23T12:49:45.933261",
     "exception": false,
     "start_time": "2024-07-23T12:49:45.913596",
     "status": "completed"
    },
    "tags": []
   },
   "outputs": [
    {
     "name": "stdout",
     "output_type": "stream",
     "text": [
      "(670, 40) (670,)\n",
      "(330, 40) (330,)\n"
     ]
    }
   ],
   "source": [
    "print(X_train.shape, y_train.shape)\n",
    "print(X_test.shape, y_test.shape)"
   ]
  },
  {
   "cell_type": "code",
   "execution_count": 12,
   "id": "d19b5b0d",
   "metadata": {
    "execution": {
     "iopub.execute_input": "2024-07-23T12:49:45.952926Z",
     "iopub.status.busy": "2024-07-23T12:49:45.952526Z",
     "iopub.status.idle": "2024-07-23T12:49:45.997480Z",
     "shell.execute_reply": "2024-07-23T12:49:45.995432Z"
    },
    "papermill": {
     "duration": 0.059671,
     "end_time": "2024-07-23T12:49:46.001898",
     "exception": false,
     "start_time": "2024-07-23T12:49:45.942227",
     "status": "completed"
    },
    "tags": []
   },
   "outputs": [
    {
     "name": "stdout",
     "output_type": "stream",
     "text": [
      "Logistic Regression accuracy: 0.8303030303030303\n"
     ]
    }
   ],
   "source": [
    "#Logistic regression \n",
    "lr = LogisticRegression()\n",
    "lr.fit(X_train, y_train)\n",
    "\n",
    "y_pred = pd.Series(lr.predict(X_test)) # Series used for storing predictions in array \n",
    "lr_acc = accuracy_score(y_test, y_pred)\n",
    "print(f\"Logistic Regression accuracy: {lr_acc}\")"
   ]
  },
  {
   "cell_type": "code",
   "execution_count": 13,
   "id": "327cc131",
   "metadata": {
    "execution": {
     "iopub.execute_input": "2024-07-23T12:49:46.059811Z",
     "iopub.status.busy": "2024-07-23T12:49:46.059096Z",
     "iopub.status.idle": "2024-07-23T12:49:47.832884Z",
     "shell.execute_reply": "2024-07-23T12:49:47.831590Z"
    },
    "papermill": {
     "duration": 1.814791,
     "end_time": "2024-07-23T12:49:47.835668",
     "exception": false,
     "start_time": "2024-07-23T12:49:46.020877",
     "status": "completed"
    },
    "tags": []
   },
   "outputs": [
    {
     "name": "stdout",
     "output_type": "stream",
     "text": [
      "KNN: \n",
      "Max acccuracy: 0.9\n",
      "Best param: 6\n"
     ]
    }
   ],
   "source": [
    "knn_acc = 0 #max accuracy\n",
    "mx_n = 0 #max_accuracy n_neighbors\n",
    "\n",
    "n_arr = [] #list for n_neight\n",
    "n_score = [] # list for accuracities\n",
    "\n",
    "for n_neigh in range(1, 50):\n",
    "    knn = KNeighborsClassifier(n_neighbors=n_neigh)\n",
    "    knn.fit(X_train, y_train)\n",
    "    y_pred = pd.Series(knn.predict(X_test))\n",
    "    n_acc = accuracy_score(y_test, y_pred)\n",
    "    n_arr.append(n_neigh)\n",
    "    n_score.append(n_acc)\n",
    "    if n_acc>knn_acc:\n",
    "        knn_acc = n_acc\n",
    "        mx_n = n_neigh\n",
    "        \n",
    "print(\"KNN: \")\n",
    "print(f\"Max acccuracy: {knn_acc}\")\n",
    "print(f\"Best param: {mx_n}\")\n"
   ]
  },
  {
   "cell_type": "code",
   "execution_count": 14,
   "id": "632f5e06",
   "metadata": {
    "execution": {
     "iopub.execute_input": "2024-07-23T12:49:47.856845Z",
     "iopub.status.busy": "2024-07-23T12:49:47.856412Z",
     "iopub.status.idle": "2024-07-23T12:49:52.339997Z",
     "shell.execute_reply": "2024-07-23T12:49:52.338529Z"
    },
    "papermill": {
     "duration": 4.496897,
     "end_time": "2024-07-23T12:49:52.342703",
     "exception": false,
     "start_time": "2024-07-23T12:49:47.845806",
     "status": "completed"
    },
    "tags": []
   },
   "outputs": [
    {
     "name": "stdout",
     "output_type": "stream",
     "text": [
      "RandomForetClassifier 0.8515151515151516\n"
     ]
    }
   ],
   "source": [
    "#Random Forest Classifier \n",
    "rf = RandomForestClassifier(n_estimators=1000, criterion='gini', max_depth=7)\n",
    "rf.fit(X_train, y_train)\n",
    "y_pred = pd.Series(rf.predict(X_test))\n",
    "rf_acc = accuracy_score(y_test, y_pred)\n",
    "print(f\"RandomForetClassifier {rf_acc}\")"
   ]
  },
  {
   "cell_type": "code",
   "execution_count": 15,
   "id": "66a9dec7",
   "metadata": {
    "execution": {
     "iopub.execute_input": "2024-07-23T12:49:52.362936Z",
     "iopub.status.busy": "2024-07-23T12:49:52.362504Z",
     "iopub.status.idle": "2024-07-23T12:49:52.405389Z",
     "shell.execute_reply": "2024-07-23T12:49:52.404051Z"
    },
    "papermill": {
     "duration": 0.056376,
     "end_time": "2024-07-23T12:49:52.408342",
     "exception": false,
     "start_time": "2024-07-23T12:49:52.351966",
     "status": "completed"
    },
    "tags": []
   },
   "outputs": [
    {
     "name": "stdout",
     "output_type": "stream",
     "text": [
      "SVC accuracy: 0.8909090909090909\n"
     ]
    }
   ],
   "source": [
    "#SVC\n",
    "svc = SVC()\n",
    "svc.fit(X_train, y_train)\n",
    "y_pred = pd.Series(svc.predict(X_test))\n",
    "svc_acc = accuracy_score(y_test, y_pred)\n",
    "print(f\"SVC accuracy: {svc_acc}\")\n"
   ]
  },
  {
   "cell_type": "code",
   "execution_count": 16,
   "id": "15a07fb8",
   "metadata": {
    "execution": {
     "iopub.execute_input": "2024-07-23T12:49:52.429328Z",
     "iopub.status.busy": "2024-07-23T12:49:52.428891Z",
     "iopub.status.idle": "2024-07-23T12:49:53.417244Z",
     "shell.execute_reply": "2024-07-23T12:49:53.415796Z"
    },
    "papermill": {
     "duration": 1.002605,
     "end_time": "2024-07-23T12:49:53.420448",
     "exception": false,
     "start_time": "2024-07-23T12:49:52.417843",
     "status": "completed"
    },
    "tags": []
   },
   "outputs": [
    {
     "name": "stdout",
     "output_type": "stream",
     "text": [
      "GradientBoostingClassifier: 0.8575757575757575\n"
     ]
    }
   ],
   "source": [
    "#GradientBoostingClassifier\n",
    "gbc = GradientBoostingClassifier(random_state=0)\n",
    "gbc.fit(X_train, y_train)\n",
    "y_pred = pd.Series(gbc.predict(X_test))\n",
    "gbc_acc = accuracy_score(y_test, y_pred)\n",
    "print(f\"GradientBoostingClassifier: {gbc_acc}\")"
   ]
  },
  {
   "cell_type": "code",
   "execution_count": 17,
   "id": "af829768",
   "metadata": {
    "execution": {
     "iopub.execute_input": "2024-07-23T12:49:53.447022Z",
     "iopub.status.busy": "2024-07-23T12:49:53.446534Z",
     "iopub.status.idle": "2024-07-23T12:49:53.722667Z",
     "shell.execute_reply": "2024-07-23T12:49:53.721034Z"
    },
    "papermill": {
     "duration": 0.292969,
     "end_time": "2024-07-23T12:49:53.725652",
     "exception": false,
     "start_time": "2024-07-23T12:49:53.432683",
     "status": "completed"
    },
    "tags": []
   },
   "outputs": [
    {
     "name": "stderr",
     "output_type": "stream",
     "text": [
      "/opt/conda/lib/python3.10/site-packages/seaborn/_oldcore.py:1765: FutureWarning: unique with argument that is not not a Series, Index, ExtensionArray, or np.ndarray is deprecated and will raise in a future version.\n",
      "  order = pd.unique(vector)\n"
     ]
    },
    {
     "data": {
      "text/plain": [
       "<Axes: >"
      ]
     },
     "execution_count": 17,
     "metadata": {},
     "output_type": "execute_result"
    },
    {
     "data": {
      "image/png": "[encoded data removed]",
      "text/plain": [
       "<Figure size 640x480 with 1 Axes>"
      ]
     },
     "metadata": {},
     "output_type": "display_data"
    }
   ],
   "source": [
    "models = ['LogisticRegression', 'RandomForestClassifier', 'KNN', 'SVC', 'GradientBoosting']\n",
    "models_acc = [lr_acc, rf_acc, knn_acc, svc_acc, gbc_acc]\n",
    "\n",
    "sns.barplot(y=models, x=models_acc)"
   ]
  },
  {
   "cell_type": "code",
   "execution_count": 18,
   "id": "c42b371f",
   "metadata": {
    "execution": {
     "iopub.execute_input": "2024-07-23T12:49:53.748847Z",
     "iopub.status.busy": "2024-07-23T12:49:53.748380Z",
     "iopub.status.idle": "2024-07-23T12:49:54.395460Z",
     "shell.execute_reply": "2024-07-23T12:49:54.393880Z"
    },
    "papermill": {
     "duration": 0.663596,
     "end_time": "2024-07-23T12:49:54.399903",
     "exception": false,
     "start_time": "2024-07-23T12:49:53.736307",
     "status": "completed"
    },
    "tags": []
   },
   "outputs": [],
   "source": [
    "#KNN \n",
    "knn = KNeighborsClassifier(n_neighbors=6)\n",
    "knn.fit(X_train, y_train)\n",
    "y_ans = pd.Series(knn.predict(test_data))\n",
    "\n"
   ]
  },
  {
   "cell_type": "code",
   "execution_count": 19,
   "id": "88a569b3",
   "metadata": {
    "execution": {
     "iopub.execute_input": "2024-07-23T12:49:54.425312Z",
     "iopub.status.busy": "2024-07-23T12:49:54.424795Z",
     "iopub.status.idle": "2024-07-23T12:49:54.443256Z",
     "shell.execute_reply": "2024-07-23T12:49:54.441954Z"
    },
    "papermill": {
     "duration": 0.034242,
     "end_time": "2024-07-23T12:49:54.446542",
     "exception": false,
     "start_time": "2024-07-23T12:49:54.412300",
     "status": "completed"
    },
    "tags": []
   },
   "outputs": [
    {
     "data": {
      "text/html": [
       "<div>\n",
       "<style scoped>\n",
       "    .dataframe tbody tr th:only-of-type {\n",
       "        vertical-align: middle;\n",
       "    }\n",
       "\n",
       "    .dataframe tbody tr th {\n",
       "        vertical-align: top;\n",
       "    }\n",
       "\n",
       "    .dataframe thead th {\n",
       "        text-align: right;\n",
       "    }\n",
       "</style>\n",
       "<table border=\"1\" class=\"dataframe\">\n",
       "  <thead>\n",
       "    <tr style=\"text-align: right;\">\n",
       "      <th></th>\n",
       "      <th>Solution</th>\n",
       "      <th>Id</th>\n",
       "    </tr>\n",
       "  </thead>\n",
       "  <tbody>\n",
       "    <tr>\n",
       "      <th>0</th>\n",
       "      <td>1</td>\n",
       "      <td>1</td>\n",
       "    </tr>\n",
       "    <tr>\n",
       "      <th>1</th>\n",
       "      <td>0</td>\n",
       "      <td>2</td>\n",
       "    </tr>\n",
       "    <tr>\n",
       "      <th>2</th>\n",
       "      <td>0</td>\n",
       "      <td>3</td>\n",
       "    </tr>\n",
       "    <tr>\n",
       "      <th>3</th>\n",
       "      <td>0</td>\n",
       "      <td>4</td>\n",
       "    </tr>\n",
       "    <tr>\n",
       "      <th>4</th>\n",
       "      <td>0</td>\n",
       "      <td>5</td>\n",
       "    </tr>\n",
       "    <tr>\n",
       "      <th>...</th>\n",
       "      <td>...</td>\n",
       "      <td>...</td>\n",
       "    </tr>\n",
       "    <tr>\n",
       "      <th>8995</th>\n",
       "      <td>1</td>\n",
       "      <td>8996</td>\n",
       "    </tr>\n",
       "    <tr>\n",
       "      <th>8996</th>\n",
       "      <td>1</td>\n",
       "      <td>8997</td>\n",
       "    </tr>\n",
       "    <tr>\n",
       "      <th>8997</th>\n",
       "      <td>1</td>\n",
       "      <td>8998</td>\n",
       "    </tr>\n",
       "    <tr>\n",
       "      <th>8998</th>\n",
       "      <td>0</td>\n",
       "      <td>8999</td>\n",
       "    </tr>\n",
       "    <tr>\n",
       "      <th>8999</th>\n",
       "      <td>1</td>\n",
       "      <td>9000</td>\n",
       "    </tr>\n",
       "  </tbody>\n",
       "</table>\n",
       "<p>9000 rows × 2 columns</p>\n",
       "</div>"
      ],
      "text/plain": [
       "      Solution    Id\n",
       "0            1     1\n",
       "1            0     2\n",
       "2            0     3\n",
       "3            0     4\n",
       "4            0     5\n",
       "...        ...   ...\n",
       "8995         1  8996\n",
       "8996         1  8997\n",
       "8997         1  8998\n",
       "8998         0  8999\n",
       "8999         1  9000\n",
       "\n",
       "[9000 rows x 2 columns]"
      ]
     },
     "execution_count": 19,
     "metadata": {},
     "output_type": "execute_result"
    }
   ],
   "source": [
    "result = {'Solution': y_ans, 'Id': [i for i in range(1, 9001)]}\n",
    "sub = pd.DataFrame(data = result, dtype=np.int64)\n",
    "sub"
   ]
  },
  {
   "cell_type": "code",
   "execution_count": 20,
   "id": "941004e9",
   "metadata": {
    "execution": {
     "iopub.execute_input": "2024-07-23T12:49:54.473942Z",
     "iopub.status.busy": "2024-07-23T12:49:54.473430Z",
     "iopub.status.idle": "2024-07-23T12:49:54.496681Z",
     "shell.execute_reply": "2024-07-23T12:49:54.495369Z"
    },
    "papermill": {
     "duration": 0.042466,
     "end_time": "2024-07-23T12:49:54.500470",
     "exception": false,
     "start_time": "2024-07-23T12:49:54.458004",
     "status": "completed"
    },
    "tags": []
   },
   "outputs": [],
   "source": [
    "sub.to_csv('out.csv', index=False)"
   ]
  },
  {
   "cell_type": "code",
   "execution_count": null,
   "id": "01aa02b6",
   "metadata": {
    "papermill": {
     "duration": 0.011252,
     "end_time": "2024-07-23T12:49:54.522718",
     "exception": false,
     "start_time": "2024-07-23T12:49:54.511466",
     "status": "completed"
    },
    "tags": []
   },
   "outputs": [],
   "source": []
  }
 ],
 "metadata": {
  "kaggle": {
   "accelerator": "none",
   "dataSources": [
    {
     "databundleVersionId": 31210,
     "sourceId": 3428,
     "sourceType": "competition"
    }
   ],
   "dockerImageVersionId": 30746,
   "isGpuEnabled": false,
   "isInternetEnabled": false,
   "language": "python",
   "sourceType": "notebook"
  },
  "kernelspec": {
   "display_name": "Python 3",
   "language": "python",
   "name": "python3"
  },
  "language_info": {
   "codemirror_mode": {
    "name": "ipython",
    "version": 3
   },
   "file_extension": ".py",
   "mimetype": "text/x-python",
   "name": "python",
   "nbconvert_exporter": "python",
   "pygments_lexer": "ipython3",
   "version": "3.10.13"
  },
  "papermill": {
   "default_parameters": {},
   "duration": 17.267785,
   "end_time": "2024-07-23T12:49:55.259570",
   "environment_variables": {},
   "exception": null,
   "input_path": "__notebook__.ipynb",
   "output_path": "__notebook__.ipynb",
   "parameters": {},
   "start_time": "2024-07-23T12:49:37.991785",
   "version": "2.5.0"
  }
 },
 "nbformat": 4,
 "nbformat_minor": 5
}
